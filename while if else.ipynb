{
  "nbformat": 4,
  "nbformat_minor": 0,
  "metadata": {
    "colab": {
      "private_outputs": true,
      "provenance": []
    },
    "kernelspec": {
      "name": "python3",
      "display_name": "Python 3"
    },
    "language_info": {
      "name": "python"
    }
  },
  "cells": [
    {
      "cell_type": "markdown",
      "source": [
        "*COMMENT*"
      ],
      "metadata": {
        "id": "IMwkoChLfkv0"
      }
    },
    {
      "cell_type": "code",
      "source": [
        "#THIS IS COMMENT\n",
        "#PLS IGNORE \n",
        "print(\"hello world\")"
      ],
      "metadata": {
        "id": "RHBEh0yufpvs"
      },
      "execution_count": null,
      "outputs": []
    },
    {
      "cell_type": "code",
      "source": [
        "\"\"\" this is comment\n",
        "pls ignore\n",
        "thanks\"\"\"\n",
        "print(\"hello world\")"
      ],
      "metadata": {
        "id": "akNlpYqDgwtd"
      },
      "execution_count": null,
      "outputs": []
    },
    {
      "cell_type": "code",
      "source": [
        "a = 34\n",
        "b = 45\n",
        "if b < a:\n",
        "  print(\"smaller\")\n",
        "elif b == a:\n",
        "  print(\"euqal\")\n",
        "else:\n",
        "  print(\"bigger\")"
      ],
      "metadata": {
        "id": "Yjut-FLJNaQg"
      },
      "execution_count": null,
      "outputs": []
    },
    {
      "cell_type": "code",
      "source": [
        "a = 45\n",
        "b = 50\n",
        "c = 55\n",
        "if b>a and c==a:\n",
        "  print(\"ok\")\n",
        "else:\n",
        "  print(\"not\")"
      ],
      "metadata": {
        "id": "fUhGhMZqOSza"
      },
      "execution_count": null,
      "outputs": []
    },
    {
      "cell_type": "code",
      "source": [
        "x = 1\n",
        "while x in range(6):\n",
        " print(x)\n",
        " x+=1\n"
      ],
      "metadata": {
        "id": "Gi2tGWrTOwQw"
      },
      "execution_count": null,
      "outputs": []
    },
    {
      "cell_type": "code",
      "source": [
        "x = 1\n",
        "while x < 10:\n",
        " print(x)\n",
        " x+=1\n",
        " if x == 5:\n",
        "  break\n",
        " "
      ],
      "metadata": {
        "id": "BgjWO5eVUnla"
      },
      "execution_count": null,
      "outputs": []
    },
    {
      "cell_type": "code",
      "source": [
        "x = 1\n",
        "while x < 10:\n",
        " print(x)\n",
        " x+=1\n",
        " if x == 5:\n",
        "  continue \n"
      ],
      "metadata": {
        "id": "cnrQ91P9VHj7"
      },
      "execution_count": null,
      "outputs": []
    }
  ]
}